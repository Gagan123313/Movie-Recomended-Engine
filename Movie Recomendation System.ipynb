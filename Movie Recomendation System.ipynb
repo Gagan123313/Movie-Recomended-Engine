{
 "cells": [
  {
   "cell_type": "code",
   "execution_count": 1,
   "id": "5e1cff52-26ad-4707-9c9a-798e984f0d5e",
   "metadata": {},
   "outputs": [],
   "source": [
    "import pandas as pd\n",
    "import numpy as np\n",
    "import warnings\n",
    "warnings.filterwarnings('ignore')"
   ]
  },
  {
   "cell_type": "code",
   "execution_count": 2,
   "id": "28762b2a-f9bd-4524-ad88-8aa51a2998aa",
   "metadata": {},
   "outputs": [],
   "source": [
    "pd.set_option('display.max_columns', None)"
   ]
  },
  {
   "cell_type": "code",
   "execution_count": 3,
   "id": "a736e057-3d3a-4ca7-be20-7252c5af207c",
   "metadata": {},
   "outputs": [
    {
     "data": {
      "text/html": [
       "<div>\n",
       "<style scoped>\n",
       "    .dataframe tbody tr th:only-of-type {\n",
       "        vertical-align: middle;\n",
       "    }\n",
       "\n",
       "    .dataframe tbody tr th {\n",
       "        vertical-align: top;\n",
       "    }\n",
       "\n",
       "    .dataframe thead th {\n",
       "        text-align: right;\n",
       "    }\n",
       "</style>\n",
       "<table border=\"1\" class=\"dataframe\">\n",
       "  <thead>\n",
       "    <tr style=\"text-align: right;\">\n",
       "      <th></th>\n",
       "      <th>imdbId</th>\n",
       "      <th>title</th>\n",
       "      <th>releaseYear</th>\n",
       "      <th>releaseDate</th>\n",
       "      <th>genre</th>\n",
       "      <th>writers</th>\n",
       "      <th>actors</th>\n",
       "      <th>directors</th>\n",
       "      <th>sequel</th>\n",
       "      <th>hitFlop</th>\n",
       "    </tr>\n",
       "  </thead>\n",
       "  <tbody>\n",
       "    <tr>\n",
       "      <th>0</th>\n",
       "      <td>tt0118578</td>\n",
       "      <td>Albela</td>\n",
       "      <td>2001</td>\n",
       "      <td>20 Apr 2001</td>\n",
       "      <td>Romance</td>\n",
       "      <td>Honey Irani (screenplay) | Honey Irani (story)...</td>\n",
       "      <td>Govinda | Aishwarya Rai Bachchan | Jackie Shro...</td>\n",
       "      <td>Deepak Sareen</td>\n",
       "      <td>0.0</td>\n",
       "      <td>2</td>\n",
       "    </tr>\n",
       "    <tr>\n",
       "      <th>1</th>\n",
       "      <td>tt0169102</td>\n",
       "      <td>Lagaan: Once Upon a Time in India</td>\n",
       "      <td>2001</td>\n",
       "      <td>08 May 2002</td>\n",
       "      <td>Adventure | Drama | Musical</td>\n",
       "      <td>Ashutosh Gowariker (story) | Ashutosh Gowarike...</td>\n",
       "      <td>Aamir Khan | Gracy Singh | Rachel Shelley | Pa...</td>\n",
       "      <td>Ashutosh Gowariker</td>\n",
       "      <td>0.0</td>\n",
       "      <td>6</td>\n",
       "    </tr>\n",
       "    <tr>\n",
       "      <th>2</th>\n",
       "      <td>tt0187279</td>\n",
       "      <td>Meri Biwi Ka Jawab Nahin</td>\n",
       "      <td>2004</td>\n",
       "      <td>02 Jul 2004</td>\n",
       "      <td>Action | Comedy</td>\n",
       "      <td>NaN</td>\n",
       "      <td>Akshay Kumar | Sridevi | Gulshan Grover | Laxm...</td>\n",
       "      <td>Pankaj Parashar | S.M. Iqbal</td>\n",
       "      <td>0.0</td>\n",
       "      <td>1</td>\n",
       "    </tr>\n",
       "    <tr>\n",
       "      <th>3</th>\n",
       "      <td>tt0222024</td>\n",
       "      <td>Hum Tumhare Hain Sanam</td>\n",
       "      <td>2002</td>\n",
       "      <td>24 May 2002</td>\n",
       "      <td>Drama | Romance</td>\n",
       "      <td>K.S. Adiyaman | Arun Kumar (assistant dialogue...</td>\n",
       "      <td>Shah Rukh Khan | Madhuri Dixit | Salman Khan |...</td>\n",
       "      <td>K.S. Adiyaman</td>\n",
       "      <td>0.0</td>\n",
       "      <td>4</td>\n",
       "    </tr>\n",
       "    <tr>\n",
       "      <th>4</th>\n",
       "      <td>tt0227194</td>\n",
       "      <td>One 2 Ka 4</td>\n",
       "      <td>2001</td>\n",
       "      <td>30 Mar 2001</td>\n",
       "      <td>Action | Comedy | Drama</td>\n",
       "      <td>Sanjay Chhel | Raaj Kumar Dahima (screenplay) ...</td>\n",
       "      <td>Shah Rukh Khan | Juhi Chawla | Jackie Shroff |...</td>\n",
       "      <td>Shashilal K. Nair</td>\n",
       "      <td>0.0</td>\n",
       "      <td>1</td>\n",
       "    </tr>\n",
       "  </tbody>\n",
       "</table>\n",
       "</div>"
      ],
      "text/plain": [
       "      imdbId                              title  releaseYear  releaseDate  \\\n",
       "0  tt0118578                             Albela         2001  20 Apr 2001   \n",
       "1  tt0169102  Lagaan: Once Upon a Time in India         2001  08 May 2002   \n",
       "2  tt0187279           Meri Biwi Ka Jawab Nahin         2004  02 Jul 2004   \n",
       "3  tt0222024             Hum Tumhare Hain Sanam         2002  24 May 2002   \n",
       "4  tt0227194                         One 2 Ka 4         2001  30 Mar 2001   \n",
       "\n",
       "                         genre  \\\n",
       "0                      Romance   \n",
       "1  Adventure | Drama | Musical   \n",
       "2              Action | Comedy   \n",
       "3              Drama | Romance   \n",
       "4      Action | Comedy | Drama   \n",
       "\n",
       "                                             writers  \\\n",
       "0  Honey Irani (screenplay) | Honey Irani (story)...   \n",
       "1  Ashutosh Gowariker (story) | Ashutosh Gowarike...   \n",
       "2                                                NaN   \n",
       "3  K.S. Adiyaman | Arun Kumar (assistant dialogue...   \n",
       "4  Sanjay Chhel | Raaj Kumar Dahima (screenplay) ...   \n",
       "\n",
       "                                              actors  \\\n",
       "0  Govinda | Aishwarya Rai Bachchan | Jackie Shro...   \n",
       "1  Aamir Khan | Gracy Singh | Rachel Shelley | Pa...   \n",
       "2  Akshay Kumar | Sridevi | Gulshan Grover | Laxm...   \n",
       "3  Shah Rukh Khan | Madhuri Dixit | Salman Khan |...   \n",
       "4  Shah Rukh Khan | Juhi Chawla | Jackie Shroff |...   \n",
       "\n",
       "                      directors  sequel  hitFlop  \n",
       "0                 Deepak Sareen     0.0        2  \n",
       "1            Ashutosh Gowariker     0.0        6  \n",
       "2  Pankaj Parashar | S.M. Iqbal     0.0        1  \n",
       "3                 K.S. Adiyaman     0.0        4  \n",
       "4             Shashilal K. Nair     0.0        1  "
      ]
     },
     "execution_count": 3,
     "metadata": {},
     "output_type": "execute_result"
    }
   ],
   "source": [
    "df  = pd.read_csv(r\"C:\\Users\\gagan soni\\Downloads\\BollywoodMovieDetail.csv\")\n",
    "df.head()"
   ]
  },
  {
   "cell_type": "code",
   "execution_count": 4,
   "id": "9ec180a3-638e-4614-ae2b-933f6f5a9e08",
   "metadata": {},
   "outputs": [
    {
     "data": {
      "text/plain": [
       "Index(['imdbId', 'title', 'releaseYear', 'releaseDate', 'genre', 'writers',\n",
       "       'actors', 'directors', 'sequel', 'hitFlop'],\n",
       "      dtype='object')"
      ]
     },
     "execution_count": 4,
     "metadata": {},
     "output_type": "execute_result"
    }
   ],
   "source": [
    "df.columns"
   ]
  },
  {
   "cell_type": "code",
   "execution_count": 5,
   "id": "3ca177eb-5be9-4bd5-ba37-3fcb29b394be",
   "metadata": {},
   "outputs": [
    {
     "data": {
      "text/plain": [
       "(1284, 10)"
      ]
     },
     "execution_count": 5,
     "metadata": {},
     "output_type": "execute_result"
    }
   ],
   "source": [
    "df.shape"
   ]
  },
  {
   "cell_type": "code",
   "execution_count": 6,
   "id": "e061e952-848f-4248-82c7-e08654ada566",
   "metadata": {},
   "outputs": [
    {
     "name": "stdout",
     "output_type": "stream",
     "text": [
      "<class 'pandas.core.frame.DataFrame'>\n",
      "RangeIndex: 1284 entries, 0 to 1283\n",
      "Data columns (total 10 columns):\n",
      " #   Column       Non-Null Count  Dtype  \n",
      "---  ------       --------------  -----  \n",
      " 0   imdbId       1284 non-null   object \n",
      " 1   title        1284 non-null   object \n",
      " 2   releaseYear  1284 non-null   int64  \n",
      " 3   releaseDate  1231 non-null   object \n",
      " 4   genre        1282 non-null   object \n",
      " 5   writers      1165 non-null   object \n",
      " 6   actors       1281 non-null   object \n",
      " 7   directors    1280 non-null   object \n",
      " 8   sequel       1281 non-null   float64\n",
      " 9   hitFlop      1284 non-null   int64  \n",
      "dtypes: float64(1), int64(2), object(7)\n",
      "memory usage: 100.4+ KB\n"
     ]
    }
   ],
   "source": [
    "df.info()"
   ]
  },
  {
   "cell_type": "markdown",
   "id": "88b1dc1e-a950-49ec-a196-8a66622993ea",
   "metadata": {},
   "source": [
    "## data preprocessing"
   ]
  },
  {
   "cell_type": "code",
   "execution_count": 7,
   "id": "d0d2ba68-04d3-4b48-94ea-b3142899f3c1",
   "metadata": {},
   "outputs": [
    {
     "data": {
      "text/plain": [
       "imdbId           0\n",
       "title            0\n",
       "releaseYear      0\n",
       "releaseDate     53\n",
       "genre            2\n",
       "writers        119\n",
       "actors           3\n",
       "directors        4\n",
       "sequel           3\n",
       "hitFlop          0\n",
       "dtype: int64"
      ]
     },
     "execution_count": 7,
     "metadata": {},
     "output_type": "execute_result"
    }
   ],
   "source": [
    "df.isnull().sum()"
   ]
  },
  {
   "cell_type": "code",
   "execution_count": 8,
   "id": "3e09b992-344c-4b70-b3dc-853473dec82b",
   "metadata": {},
   "outputs": [
    {
     "data": {
      "text/plain": [
       "Index(['imdbId', 'title', 'releaseYear', 'releaseDate', 'genre', 'writers',\n",
       "       'actors', 'directors', 'sequel', 'hitFlop'],\n",
       "      dtype='object')"
      ]
     },
     "execution_count": 8,
     "metadata": {},
     "output_type": "execute_result"
    }
   ],
   "source": [
    "df.columns"
   ]
  },
  {
   "cell_type": "code",
   "execution_count": 9,
   "id": "de37697d-1e5c-4e29-a5e4-5af98773d9b4",
   "metadata": {},
   "outputs": [],
   "source": [
    "df.drop(columns = ['imdbId', 'sequel','writers', 'hitFlop','releaseDate','releaseYear'],inplace = True)"
   ]
  },
  {
   "cell_type": "code",
   "execution_count": 10,
   "id": "6112ade5-df43-4d07-963d-e3847ef14314",
   "metadata": {},
   "outputs": [
    {
     "data": {
      "text/plain": [
       "(1284, 4)"
      ]
     },
     "execution_count": 10,
     "metadata": {},
     "output_type": "execute_result"
    }
   ],
   "source": [
    "df.shape"
   ]
  },
  {
   "cell_type": "code",
   "execution_count": 11,
   "id": "29676b77-bc99-458f-a938-c33ddab37b87",
   "metadata": {},
   "outputs": [],
   "source": [
    "df.dropna(inplace= True)"
   ]
  },
  {
   "cell_type": "code",
   "execution_count": 12,
   "id": "03cb64c8-f7ee-49df-8e1e-901c382d93e3",
   "metadata": {},
   "outputs": [
    {
     "data": {
      "text/plain": [
       "title        0\n",
       "genre        0\n",
       "actors       0\n",
       "directors    0\n",
       "dtype: int64"
      ]
     },
     "execution_count": 12,
     "metadata": {},
     "output_type": "execute_result"
    }
   ],
   "source": [
    "df.isnull().sum()"
   ]
  },
  {
   "cell_type": "code",
   "execution_count": 13,
   "id": "0158396b-b120-43ab-b9cf-a12ba45a3621",
   "metadata": {},
   "outputs": [
    {
     "data": {
      "text/plain": [
       "np.int64(0)"
      ]
     },
     "execution_count": 13,
     "metadata": {},
     "output_type": "execute_result"
    }
   ],
   "source": [
    "df.duplicated().sum()"
   ]
  },
  {
   "cell_type": "code",
   "execution_count": 14,
   "id": "53cf810a-94c0-4374-b39d-62ae30f22cc9",
   "metadata": {},
   "outputs": [
    {
     "data": {
      "text/html": [
       "<div>\n",
       "<style scoped>\n",
       "    .dataframe tbody tr th:only-of-type {\n",
       "        vertical-align: middle;\n",
       "    }\n",
       "\n",
       "    .dataframe tbody tr th {\n",
       "        vertical-align: top;\n",
       "    }\n",
       "\n",
       "    .dataframe thead th {\n",
       "        text-align: right;\n",
       "    }\n",
       "</style>\n",
       "<table border=\"1\" class=\"dataframe\">\n",
       "  <thead>\n",
       "    <tr style=\"text-align: right;\">\n",
       "      <th></th>\n",
       "      <th>title</th>\n",
       "      <th>genre</th>\n",
       "      <th>actors</th>\n",
       "      <th>directors</th>\n",
       "    </tr>\n",
       "  </thead>\n",
       "  <tbody>\n",
       "    <tr>\n",
       "      <th>0</th>\n",
       "      <td>Albela</td>\n",
       "      <td>Romance</td>\n",
       "      <td>Govinda | Aishwarya Rai Bachchan | Jackie Shro...</td>\n",
       "      <td>Deepak Sareen</td>\n",
       "    </tr>\n",
       "  </tbody>\n",
       "</table>\n",
       "</div>"
      ],
      "text/plain": [
       "    title    genre                                             actors  \\\n",
       "0  Albela  Romance  Govinda | Aishwarya Rai Bachchan | Jackie Shro...   \n",
       "\n",
       "       directors  \n",
       "0  Deepak Sareen  "
      ]
     },
     "execution_count": 14,
     "metadata": {},
     "output_type": "execute_result"
    }
   ],
   "source": [
    "df.head(1)"
   ]
  },
  {
   "cell_type": "code",
   "execution_count": 15,
   "id": "e2cecae1-25a7-4afd-866d-a6c79e95a5e5",
   "metadata": {},
   "outputs": [],
   "source": [
    "df['tags'] = df['actors']+df['genre']+df['directors']"
   ]
  },
  {
   "cell_type": "code",
   "execution_count": 16,
   "id": "0072ec6c-e97f-4682-8376-3fdaeea9e519",
   "metadata": {},
   "outputs": [],
   "source": [
    "df.drop(columns = ['actors','genre','directors'],inplace = True)"
   ]
  },
  {
   "cell_type": "code",
   "execution_count": 17,
   "id": "efe0ca41-1e10-4b90-be03-5b1302b57351",
   "metadata": {
    "jp-MarkdownHeadingCollapsed": true
   },
   "outputs": [
    {
     "data": {
      "text/plain": [
       "'Ashutosh Rana | Divya Dutta | Rajit Kapoor | Yashpal SharmaDrama | ThrillerSushen Bhatnagar'"
      ]
     },
     "execution_count": 17,
     "metadata": {},
     "output_type": "execute_result"
    }
   ],
   "source": [
    " df.tags.iloc[910]"
   ]
  },
  {
   "cell_type": "code",
   "execution_count": 18,
   "id": "a4f85eff-1e02-4505-ab68-c5e691446d64",
   "metadata": {},
   "outputs": [],
   "source": [
    "import re"
   ]
  },
  {
   "cell_type": "code",
   "execution_count": 19,
   "id": "f689a8e0-45f9-47dd-8db6-2af2e1bb5d67",
   "metadata": {},
   "outputs": [],
   "source": [
    "df = df.reset_index(drop=True)"
   ]
  },
  {
   "cell_type": "code",
   "execution_count": 20,
   "id": "8b697934-70aa-4d1a-ac22-d40503c6b5d1",
   "metadata": {},
   "outputs": [],
   "source": [
    "for i in range(len(df)):\n",
    "    df.loc[i, 'tags'] = re.sub('[^a-zA-Z\\s]', '', df.loc[i, 'tags'])"
   ]
  },
  {
   "cell_type": "code",
   "execution_count": 21,
   "id": "739666a9-184c-4e62-8279-dd864ecb667c",
   "metadata": {},
   "outputs": [],
   "source": [
    "# converting the text data to feature vectors\n",
    "from sklearn.feature_extraction.text import TfidfVectorizer\n",
    "vectorizer = TfidfVectorizer()\n",
    "features_vectors =  vectorizer.fit_transform(df['tags'])"
   ]
  },
  {
   "cell_type": "code",
   "execution_count": 22,
   "id": "6e8109fd-072f-4b7c-85a3-3cc17e320c39",
   "metadata": {},
   "outputs": [
    {
     "data": {
      "text/plain": [
       "array(['aabhas', 'aadil', 'aakash', ..., 'zulfi', 'zutshi', 'zutshidrama'],\n",
       "      shape=(4054,), dtype=object)"
      ]
     },
     "execution_count": 22,
     "metadata": {},
     "output_type": "execute_result"
    }
   ],
   "source": [
    "vectorizer.get_feature_names_out()"
   ]
  },
  {
   "cell_type": "code",
   "execution_count": 23,
   "id": "37775e27-9fab-4b8d-8f61-51a70efa010c",
   "metadata": {},
   "outputs": [
    {
     "data": {
      "text/plain": [
       "4054"
      ]
     },
     "execution_count": 23,
     "metadata": {},
     "output_type": "execute_result"
    }
   ],
   "source": [
    "len(vectorizer.get_feature_names_out())"
   ]
  },
  {
   "cell_type": "code",
   "execution_count": 24,
   "id": "5e7fd58d-ca71-45ff-91cf-5a8f56eebfb1",
   "metadata": {},
   "outputs": [],
   "source": [
    "y = pd.DataFrame(vectorizer.fit_transform(df['tags']).toarray(),columns = vectorizer.get_feature_names_out())"
   ]
  },
  {
   "cell_type": "code",
   "execution_count": 25,
   "id": "f0a4eeaa-5f7f-4d1f-82d8-8ef9021d500f",
   "metadata": {},
   "outputs": [],
   "source": [
    "X = df.title"
   ]
  },
  {
   "cell_type": "code",
   "execution_count": 26,
   "id": "45f83e60-c46e-42d6-ac35-dd1d32173a6d",
   "metadata": {},
   "outputs": [
    {
     "name": "stdout",
     "output_type": "stream",
     "text": [
      "[[1.         0.         0.         ... 0.         0.         0.        ]\n",
      " [0.         1.         0.         ... 0.         0.         0.        ]\n",
      " [0.         0.         1.         ... 0.         0.         0.        ]\n",
      " ...\n",
      " [0.         0.         0.         ... 1.         0.         0.        ]\n",
      " [0.         0.         0.         ... 0.         1.         0.07158264]\n",
      " [0.         0.         0.         ... 0.         0.07158264 1.        ]]\n"
     ]
    }
   ],
   "source": [
    "# getting the similarity scores using cosine similarity\n",
    "\n",
    "from sklearn.metrics.pairwise import cosine_similarity\n",
    "\n",
    "similarity = cosine_similarity(features_vectors)\n",
    "\n",
    "print(similarity)"
   ]
  },
  {
   "cell_type": "code",
   "execution_count": 27,
   "id": "e94a8db6-0941-44ad-9db2-efd3f776659a",
   "metadata": {},
   "outputs": [
    {
     "data": {
      "text/plain": [
       "(1275, 1275)"
      ]
     },
     "execution_count": 27,
     "metadata": {},
     "output_type": "execute_result"
    }
   ],
   "source": [
    "similarity.shape"
   ]
  },
  {
   "cell_type": "code",
   "execution_count": 28,
   "id": "32b15049-7be3-4a5d-9fe8-585a78e77b20",
   "metadata": {},
   "outputs": [],
   "source": [
    "list_of_all_titles = df['title'].tolist()"
   ]
  },
  {
   "cell_type": "markdown",
   "id": "55705677-bd4f-4ab1-ad2f-7a12844ee5e3",
   "metadata": {},
   "source": [
    "### Getting the movie name  from the user"
   ]
  },
  {
   "cell_type": "code",
   "execution_count": 29,
   "id": "f4dccc26-7799-48fc-b3ba-5bfa67958a73",
   "metadata": {},
   "outputs": [
    {
     "name": "stdin",
     "output_type": "stream",
     "text": [
      "enter your fevourite movie name :  Mumbai Delhi Mumbai\n"
     ]
    }
   ],
   "source": [
    "movie_name = input('enter your fevourite movie name : ')"
   ]
  },
  {
   "cell_type": "code",
   "execution_count": 30,
   "id": "1ee8e3dd-1303-47b6-bd3b-36069cabaf4f",
   "metadata": {},
   "outputs": [
    {
     "name": "stdout",
     "output_type": "stream",
     "text": [
      "['Mumbai Delhi Mumbai', 'Mumbai Diaries', 'Mumbai Meri Jaan']\n"
     ]
    }
   ],
   "source": [
    "# finding the close math for the movie name given by the user\n",
    "\n",
    "import difflib\n",
    "find_lose_match = difflib.get_close_matches(movie_name,list_of_all_titles)\n",
    "print(find_lose_match)"
   ]
  },
  {
   "cell_type": "code",
   "execution_count": 31,
   "id": "65e89719-551e-4014-9c92-0bb701133a00",
   "metadata": {},
   "outputs": [
    {
     "name": "stdout",
     "output_type": "stream",
     "text": [
      "Mumbai Diaries\n"
     ]
    }
   ],
   "source": [
    "close_match = find_lose_match[1]\n",
    "print(close_match)"
   ]
  }
 ],
 "metadata": {
  "kernelspec": {
   "display_name": "Python 3 (ipykernel)",
   "language": "python",
   "name": "python3"
  },
  "language_info": {
   "codemirror_mode": {
    "name": "ipython",
    "version": 3
   },
   "file_extension": ".py",
   "mimetype": "text/x-python",
   "name": "python",
   "nbconvert_exporter": "python",
   "pygments_lexer": "ipython3",
   "version": "3.12.3"
  }
 },
 "nbformat": 4,
 "nbformat_minor": 5
}
